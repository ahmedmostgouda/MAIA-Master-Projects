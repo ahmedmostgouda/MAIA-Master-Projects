{
 "cells": [
  {
   "cell_type": "code",
   "execution_count": 1,
   "metadata": {},
   "outputs": [],
   "source": [
    "import SimpleITK as sitk\n",
    "import numpy as np\n",
    "from os import listdir\n",
    "import matplotlib.pyplot as plt\n",
    "import cv2\n",
    "from sklearn.cluster import KMeans\n",
    "import sys\n",
    "from scipy.stats import multivariate_normal\n",
    "from scipy.spatial.distance import cdist\n",
    "from sklearn import metrics\n",
    "import random\n",
    "import time"
   ]
  },
  {
   "cell_type": "code",
   "execution_count": 11,
   "metadata": {},
   "outputs": [
    {
     "data": {
      "text/plain": [
       "'cop'"
      ]
     },
     "execution_count": 11,
     "metadata": {},
     "output_type": "execute_result"
    }
   ],
   "source": [
    "img_sample = \"cop4\"\n",
    "n = img_sample[:-1]\n",
    "n"
   ]
  },
  {
   "cell_type": "code",
   "execution_count": 2,
   "metadata": {},
   "outputs": [],
   "source": [
    "def load_itk(filename):\n",
    "    '''\n",
    "    This funciton reads a '.nii' file using SimpleITK and return the image array, origin and spacing of the image.\n",
    "    '''\n",
    "    # Reads the image using SimpleITK\n",
    "    itkimage = sitk.ReadImage(filename)\n",
    "\n",
    "    # Convert the image to a  numpy array first and then shuffle the dimensions to get axis in the order z,y,x\n",
    "    ct_scan = sitk.GetArrayFromImage(itkimage)\n",
    "\n",
    "    # Read the origin of the ct_scan, will be used to convert the coordinates from world to voxel and vice versa.\n",
    "    origin = np.array(list(reversed(itkimage.GetOrigin())))\n",
    "\n",
    "    # Read the spacing along each dimension\n",
    "    spacing = np.array(list(reversed(itkimage.GetSpacing())))\n",
    "\n",
    "    no_of_slices = ct_scan.shape[0]\n",
    "    \n",
    "    #return itkimage, ct_scan, origin, spacing, no_of_slices\n",
    "    return itkimage, ct_scan, origin, spacing"
   ]
  },
  {
   "cell_type": "code",
   "execution_count": 4,
   "metadata": {},
   "outputs": [],
   "source": [
    "def read(image_path):\n",
    "    '''\n",
    "    Read desired Nifti images\n",
    "    '''\n",
    "    gt_image =  image_path\n",
    "\n",
    "  \n",
    "    _, img_gt, origin_gt, spacing_gt = load_itk(gt_image) #load groundtruth\n",
    "\n",
    "\n",
    "    return img_gt"
   ]
  },
  {
   "cell_type": "code",
   "execution_count": 5,
   "metadata": {},
   "outputs": [],
   "source": [
    "img_gt1 = read('training-set/training-labels/1000_3C.nii')\n",
    "img_gt2 = read('training-set/training-labels/1001_3C.nii')\n",
    "img_gt3 = read('training-set/training-labels/1002_3C.nii')"
   ]
  },
  {
   "cell_type": "code",
   "execution_count": 56,
   "metadata": {},
   "outputs": [],
   "source": [
    "n = 3 #number of images\n",
    "gt_CSF = np.zeros(np.shape(img_gt1))\n",
    "gt_WM = np.zeros(np.shape(img_gt1))\n",
    "gt_GM = np.zeros(np.shape(img_gt1))\n",
    "\n",
    "\n",
    "for i in range(n):\n",
    "    gt_CSF[np.where(img_gt1==1)]+=1\n",
    "    gt_WM[np.where(img_gt1==2)]+=1\n",
    "    gt_GM[np.where(img_gt1==3)]+=1\n",
    "\n",
    "      "
   ]
  },
  {
   "cell_type": "code",
   "execution_count": 68,
   "metadata": {},
   "outputs": [
    {
     "data": {
      "text/plain": [
       "'img1'"
      ]
     },
     "execution_count": 68,
     "metadata": {},
     "output_type": "execute_result"
    }
   ],
   "source": [
    "\n",
    "\"img\"+str(1)"
   ]
  },
  {
   "cell_type": "code",
   "execution_count": 62,
   "metadata": {},
   "outputs": [
    {
     "data": {
      "text/plain": [
       "0"
      ]
     },
     "execution_count": 62,
     "metadata": {},
     "output_type": "execute_result"
    }
   ],
   "source": [
    " np.count_nonzero(gt_WM == 4)"
   ]
  },
  {
   "cell_type": "code",
   "execution_count": null,
   "metadata": {},
   "outputs": [],
   "source": []
  },
  {
   "cell_type": "code",
   "execution_count": null,
   "metadata": {},
   "outputs": [],
   "source": []
  }
 ],
 "metadata": {
  "kernelspec": {
   "display_name": "aia",
   "language": "python",
   "name": "aia"
  },
  "language_info": {
   "codemirror_mode": {
    "name": "ipython",
    "version": 3
   },
   "file_extension": ".py",
   "mimetype": "text/x-python",
   "name": "python",
   "nbconvert_exporter": "python",
   "pygments_lexer": "ipython3",
   "version": "3.6.8"
  }
 },
 "nbformat": 4,
 "nbformat_minor": 2
}
